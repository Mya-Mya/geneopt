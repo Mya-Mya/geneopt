{
 "cells": [
  {
   "cell_type": "code",
   "execution_count": null,
   "metadata": {},
   "outputs": [],
   "source": [
    "import sys,os\n",
    "import matplotlib.pyplot as plt\n",
    "import matplotlib\n",
    "import numpy as np\n",
    "%matplotlib notebook"
   ]
  },
  {
   "cell_type": "code",
   "execution_count": null,
   "metadata": {},
   "outputs": [],
   "source": [
    "sys.path.append(os.getcwd())"
   ]
  },
  {
   "cell_type": "markdown",
   "metadata": {},
   "source": [
    "# geneopt2"
   ]
  },
  {
   "cell_type": "code",
   "execution_count": null,
   "metadata": {},
   "outputs": [],
   "source": [
    "import testfuncs\n",
    "import geneopt2\n",
    "import goal"
   ]
  },
  {
   "cell_type": "code",
   "execution_count": null,
   "metadata": {},
   "outputs": [],
   "source": [
    "from mpl_toolkits.mplot3d import Axes3D"
   ]
  },
  {
   "cell_type": "code",
   "execution_count": null,
   "metadata": {},
   "outputs": [],
   "source": [
    "def f(val):\n",
    "    x=val[0]\n",
    "    y=val[1]\n",
    "    return my_func.do(x,y)"
   ]
  },
  {
   "cell_type": "code",
   "execution_count": 84,
   "metadata": {},
   "outputs": [],
   "source": [
    "def show_my_func(cmap,elev=-30,azim=30):\n",
    "    '''\n",
    "    新しい関数を使用する際は以下のセルを実行しX,Y,Zを更新すること。\n",
    "    Returns\n",
    "    -------\n",
    "    fig,ax,surf\n",
    "    '''\n",
    "    fig=plt.figure(facecolor='w')\n",
    "    \n",
    "    vmin=Z.min()\n",
    "    vmax=Z.max()\n",
    "    \n",
    "    ax=fig.gca(projection='3d')\n",
    "    ax.view_init(elev,azim)\n",
    "    surf=ax.plot_surface(X,Y,Z,cmap=cmap,alpha=0.7,antialiased=True)\n",
    "    ax.contour(X,Y,Z)\n",
    "    ax.set_zlim(vmin,vmax)\n",
    "    ax.set_xlabel('x')\n",
    "    ax.set_ylabel('y')\n",
    "    ax.set_zlabel('z')\n",
    "    \n",
    "    #norm=matplotlib.colors.Normalize(vmin=vmin,vmax=vmax)\n",
    "    #colorbar=fig.colorbar(plt.cm.ScalarMappable(norm=norm,cmap=cmap),ax=ax)\n",
    "    #colorbar.set_ticks(np.linspace(vmin,vmax,10))\n",
    "    \n",
    "    return fig,ax,surf"
   ]
  },
  {
   "cell_type": "code",
   "execution_count": null,
   "metadata": {
    "scrolled": true
   },
   "outputs": [],
   "source": [
    "my_func=testfuncs.Bukin()\n",
    "X=np.linspace(my_func.Xdomain()[0],my_func.Xdomain()[1],100)\n",
    "Y=np.linspace(my_func.Ydomain()[0],my_func.Ydomain()[1],100)\n",
    "X,Y=np.meshgrid(X,Y)\n",
    "Z=my_func.do(X,Y)\n",
    "Z=np.asarray(Z)\n",
    "\n",
    "show_my_func(cmap)"
   ]
  },
  {
   "cell_type": "code",
   "execution_count": null,
   "metadata": {
    "scrolled": false
   },
   "outputs": [],
   "source": [
    "cmap=matplotlib.cm.RdYlBu_r\n",
    "fig,ax,surf=show_my_func(cmap,elev,azim)"
   ]
  },
  {
   "cell_type": "code",
   "execution_count": 92,
   "metadata": {},
   "outputs": [],
   "source": [
    "val_ranges=[\n",
    "    (my_func.Xdomain()[0],my_func.Xdomain()[1])\n",
    "    ,(my_func.Ydomain()[0],my_func.Ydomain()[1])\n",
    "]\n",
    "my_goal=goal.Minimize()\n",
    "inherit_ways={\n",
    "    geneopt2.Meaning(1):90\n",
    "    ,geneopt2.SheerNew():10\n",
    "}"
   ]
  },
  {
   "cell_type": "code",
   "execution_count": 93,
   "metadata": {},
   "outputs": [],
   "source": [
    "N=50\n",
    "num_parent=15\n",
    "num_generation=10\n",
    "opt=geneopt2.GeneticOptimizer(\n",
    "    2 # M\n",
    "    ,f\n",
    "    ,val_ranges\n",
    "    ,my_goal # goal\n",
    "    ,N\n",
    "    ,num_parent\n",
    "    ,num_generation\n",
    "    ,inherit_ways\n",
    ")\n",
    "#opt.enable_debug()"
   ]
  },
  {
   "cell_type": "code",
   "execution_count": 91,
   "metadata": {},
   "outputs": [],
   "source": [
    "elev=47\n",
    "azim=-32"
   ]
  },
  {
   "cell_type": "code",
   "execution_count": null,
   "metadata": {
    "scrolled": true
   },
   "outputs": [],
   "source": [
    "final_generation_variable_list=None\n",
    "%time final_generation_variable_list,log=opt.execute()\n",
    "save_results(cmap,elev,azim)"
   ]
  },
  {
   "cell_type": "code",
   "execution_count": null,
   "metadata": {},
   "outputs": [],
   "source": [
    "save_results(cmap,elev,azim)"
   ]
  },
  {
   "cell_type": "code",
   "execution_count": null,
   "metadata": {},
   "outputs": [],
   "source": [
    "def save_results(cmap,elev,azim):\n",
    "    for i,variable_list in enumerate(log,1):\n",
    "        plt.cla()\n",
    "    \n",
    "        fig,ax,surf=show_my_func(cmap,elev,azim)\n",
    "    \n",
    "        data=np.transpose(variable_list)\n",
    "        ax.scatter3D(data[0],data[1],my_func.do(data[0],data[1]),c='black')\n",
    "    \n",
    "        ax.set_xlim(my_func.Xdomain())\n",
    "        ax.set_ylim(my_func.Ydomain())\n",
    "        ax.set_xlabel('x')\n",
    "        ax.set_ylabel('y')\n",
    "        ax.set_zlabel('z')\n",
    "        ax.set_title('generation {}\\n(N={} num_parent={})'.format(i,N,num_parent))\n",
    "        \n",
    "        plt.savefig('./result/{}.png'.format(i))"
   ]
  },
  {
   "cell_type": "code",
   "execution_count": 75,
   "metadata": {
    "scrolled": true
   },
   "outputs": [
    {
     "name": "stdout",
     "output_type": "stream",
     "text": [
      "[3.142] [3.142]\n"
     ]
    },
    {
     "data": {
      "text/plain": [
       "[[3.1731363022597456, 3.377884758121197],\n",
       " [2.8349068914576776, 4.105543683419215],\n",
       " [2.2225710805458334, 2.6684753170270152],\n",
       " [2.439762950804139, 4.193232091368185],\n",
       " [2.0129296245920614, 1.628509138026376],\n",
       " [4.842760504983618, 5.699605158158187],\n",
       " [5.756637735472287, 4.91487073472266],\n",
       " [5.739025553093113, 5.885207112238943],\n",
       " [5.739025553093113, 5.885207112238943],\n",
       " [5.739025553093113, 5.885207112238943],\n",
       " [0.08013042665007619, 5.881417570369507],\n",
       " [7.657314354943758, 1.2955346320180996],\n",
       " [0.9312816661746344, -1.346993244495915],\n",
       " [8.470697100378139, 2.988066528772364],\n",
       " [-0.2082062250130829, 7.328217569931775]]"
      ]
     },
     "execution_count": 75,
     "metadata": {},
     "output_type": "execute_result"
    }
   ],
   "source": [
    "print(my_func.Xmin(),my_func.Ymin())\n",
    "final_generation_variable_list"
   ]
  },
  {
   "cell_type": "markdown",
   "metadata": {
    "heading_collapsed": true
   },
   "source": [
    "# geneopt1"
   ]
  },
  {
   "cell_type": "code",
   "execution_count": null,
   "metadata": {
    "hidden": true
   },
   "outputs": [],
   "source": [
    "import goal\n",
    "import geneopt1"
   ]
  },
  {
   "cell_type": "code",
   "execution_count": null,
   "metadata": {
    "hidden": true
   },
   "outputs": [],
   "source": [
    "#標的関数の用意\n",
    "def target_func(variable_list):\n",
    "    x=variable_list[0]\n",
    "    y=variable_list[1]\n",
    "    return (x*x+y-11)**2+(x+y*y-7)**2"
   ]
  },
  {
   "cell_type": "code",
   "execution_count": null,
   "metadata": {
    "hidden": true,
    "scrolled": true
   },
   "outputs": [],
   "source": [
    "import matplotlib.pyplot as plt\n",
    "X=np.linspace(-6,6,100)\n",
    "Y=np.linspace(-6,6,100)\n",
    "Z=[]\n",
    "for y in Y:\n",
    "    Z.append([target_func([x,y])for x in X])\n",
    "plt.pcolormesh(Z,vmin=0,vmax=700,cmap=plt.get_cmap('ocean'))"
   ]
  },
  {
   "cell_type": "code",
   "execution_count": null,
   "metadata": {
    "hidden": true
   },
   "outputs": [],
   "source": [
    "#発現方法の定義\n",
    "expression_x=geneopt1.Expression(-6,6,20)\n",
    "expression_y=geneopt1.Expression(-6,6,20)\n",
    "print(expression_x)"
   ]
  },
  {
   "cell_type": "code",
   "execution_count": null,
   "metadata": {
    "hidden": true
   },
   "outputs": [],
   "source": [
    "#最適化目標の指定\n",
    "my_goal=goal.Minimize()\n",
    "print(my_goal)"
   ]
  },
  {
   "cell_type": "code",
   "execution_count": null,
   "metadata": {
    "hidden": true
   },
   "outputs": [],
   "source": [
    "#遺伝方法の指定\n",
    "inherit_ways={\n",
    "    geneopt1.GeneticCrossing(0.05):1.0\n",
    "    ,geneopt1.SheerMutation():0.01\n",
    "}\n",
    "inherit_ways"
   ]
  },
  {
   "cell_type": "code",
   "execution_count": null,
   "metadata": {
    "hidden": true
   },
   "outputs": [],
   "source": [
    "my_geneopt1=geneopt1.GeneticOptimizer(\n",
    "    2 #2つの変数を取る関数\n",
    "    ,target_func #この関数に対して最適化する\n",
    "    ,[expression_x,expression_y] #x,yをそれぞれ発現してもらう\n",
    "    ,my_goal\n",
    "    ,100 #1世代あたりの個体数\n",
    "    ,20 #親にする個体数\n",
    "    ,10 #10世代やる\n",
    "    ,inherit_ways\n",
    ")\n",
    "my_geneopt1.enable_debug()\n",
    "print(my_geneopt1)"
   ]
  },
  {
   "cell_type": "code",
   "execution_count": null,
   "metadata": {
    "hidden": true
   },
   "outputs": [],
   "source": [
    "final_generation_variable_list=my_geneopt1.execute()\n",
    "print(final_generation_variable_list)"
   ]
  },
  {
   "cell_type": "code",
   "execution_count": null,
   "metadata": {
    "hidden": true
   },
   "outputs": [],
   "source": [
    "plt.pcolormesh(X,Y,Z,vmin=0,vmax=700,cmap=plt.get_cmap('ocean'))\n",
    "for variable in final_generation_variable_list:\n",
    "    plt.scatter(variable[0],variable[1],color='r',marker='.')\n",
    "\n",
    "plt.show()"
   ]
  }
 ],
 "metadata": {
  "kernelspec": {
   "display_name": "Python 3",
   "language": "python",
   "name": "python3"
  },
  "language_info": {
   "codemirror_mode": {
    "name": "ipython",
    "version": 3
   },
   "file_extension": ".py",
   "mimetype": "text/x-python",
   "name": "python",
   "nbconvert_exporter": "python",
   "pygments_lexer": "ipython3",
   "version": "3.6.9"
  },
  "varInspector": {
   "cols": {
    "lenName": 16,
    "lenType": 16,
    "lenVar": 40
   },
   "kernels_config": {
    "python": {
     "delete_cmd_postfix": "",
     "delete_cmd_prefix": "del ",
     "library": "var_list.py",
     "varRefreshCmd": "print(var_dic_list())"
    },
    "r": {
     "delete_cmd_postfix": ") ",
     "delete_cmd_prefix": "rm(",
     "library": "var_list.r",
     "varRefreshCmd": "cat(var_dic_list()) "
    }
   },
   "position": {
    "height": "416px",
    "left": "996px",
    "right": "20px",
    "top": "120px",
    "width": "350px"
   },
   "types_to_exclude": [
    "module",
    "function",
    "builtin_function_or_method",
    "instance",
    "_Feature"
   ],
   "window_display": false
  }
 },
 "nbformat": 4,
 "nbformat_minor": 2
}
