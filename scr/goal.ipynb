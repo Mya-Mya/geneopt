{
 "cells": [
  {
   "cell_type": "code",
   "execution_count": null,
   "metadata": {},
   "outputs": [],
   "source": [
    "import numpy"
   ]
  },
  {
   "cell_type": "code",
   "execution_count": null,
   "metadata": {},
   "outputs": [],
   "source": [
    "class Goal():\n",
    "    '''\n",
    "    最適化の目標を示す抽象クラス。\n",
    "    '''\n",
    "    def __init__(self):\n",
    "        pass\n",
    "    def get_ranking(self,y_list):\n",
    "        '''\n",
    "        最適化の試行結果を目標に近いもの順に並べ替える。\n",
    "        \n",
    "        Parameters\n",
    "        ----------\n",
    "        y_list : list\n",
    "            試行結果の数値(リスト形式)\n",
    "        \n",
    "        Returns\n",
    "        -------\n",
    "        rank_index : list\n",
    "            目標に近いもの順に並べ替えられたy_listの添字配列(リスト形式)\n",
    "        '''\n",
    "        pass"
   ]
  },
  {
   "cell_type": "code",
   "execution_count": null,
   "metadata": {},
   "outputs": [],
   "source": [
    "class Maximize(Goal):\n",
    "    '''\n",
    "    スカラー値の最大化を目標とする。\n",
    "    '''\n",
    "    def __init__(self):\n",
    "        pass\n",
    "    def get_ranking(self,y_list):\n",
    "        '''\n",
    "        最適化の試行結果(スカラー値)を大きいもの順に並べ替える。\n",
    "        \n",
    "        Parameters\n",
    "        ----------\n",
    "        y_list : list\n",
    "            試行結果のスカラー値(リスト形式)\n",
    "        \n",
    "        Returns\n",
    "        -------\n",
    "        rank_index : list\n",
    "            大きいもの順に並べ替えられたy_listの添字配列(リスト形式)\n",
    "        '''\n",
    "        return list(numpy.argsort(y_list)[::-1])\n",
    "    def __str__(self):\n",
    "        return 'スカラー値の最大化を目標とする。'"
   ]
  },
  {
   "cell_type": "code",
   "execution_count": null,
   "metadata": {},
   "outputs": [],
   "source": [
    "class Minimize(Goal):\n",
    "    '''\n",
    "    スカラー値の最小化を目標とする。\n",
    "    '''\n",
    "    def __init__(self):\n",
    "        pass\n",
    "    def get_ranking(self,y_list):\n",
    "        '''\n",
    "        最適化の試行結果(スカラー値)while小さいもの順に並べ替える。\n",
    "        \n",
    "        Parameters\n",
    "        ----------\n",
    "        y_list : list\n",
    "            試行結果のスカラー値(リスト形式)\n",
    "        \n",
    "        Returns\n",
    "        -------\n",
    "        rank_index : list\n",
    "            小さいもの順に並べ替えられたy_listの添字配列(リスト形式)\n",
    "        '''\n",
    "        return list(numpy.argsort(y_list))\n",
    "    def __str__(self):\n",
    "        return 'スカラー値の最小化を目標とする。'"
   ]
  }
 ],
 "metadata": {
  "kernelspec": {
   "display_name": "Python 3",
   "language": "python",
   "name": "python3"
  },
  "language_info": {
   "codemirror_mode": {
    "name": "ipython",
    "version": 3
   },
   "file_extension": ".py",
   "mimetype": "text/x-python",
   "name": "python",
   "nbconvert_exporter": "python",
   "pygments_lexer": "ipython3",
   "version": "3.6.9"
  },
  "varInspector": {
   "cols": {
    "lenName": 16,
    "lenType": 16,
    "lenVar": 40
   },
   "kernels_config": {
    "python": {
     "delete_cmd_postfix": "",
     "delete_cmd_prefix": "del ",
     "library": "var_list.py",
     "varRefreshCmd": "print(var_dic_list())"
    },
    "r": {
     "delete_cmd_postfix": ") ",
     "delete_cmd_prefix": "rm(",
     "library": "var_list.r",
     "varRefreshCmd": "cat(var_dic_list()) "
    }
   },
   "types_to_exclude": [
    "module",
    "function",
    "builtin_function_or_method",
    "instance",
    "_Feature"
   ],
   "window_display": false
  }
 },
 "nbformat": 4,
 "nbformat_minor": 2
}
